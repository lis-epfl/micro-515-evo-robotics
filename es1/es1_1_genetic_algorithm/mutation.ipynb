{
 "cells": [
  {
   "cell_type": "code",
   "execution_count": 2,
   "id": "59fc498c-93e1-4017-a6e6-c2645375bec8",
   "metadata": {},
   "outputs": [],
   "source": [
    "import numpy as np\n",
    "import random\n",
    "\n",
    "\n",
    "def mutation(population, prob_mutation=0.05):\n",
    "    \"\"\"\n",
    "    This function takes the entire next generation, created by crossover of parents from \n",
    "    the current generation, and mutates each bit of each chromosome with a probability \n",
    "    of prob_mutation.\n",
    "    \n",
    "    :param population: 2D numpy array with each row being a single encoded chromosome.\n",
    "    :param prob_mutation: The mutation probability [0,1], default=0.05, is the probability \n",
    "                            that each bit in each chromosome is mutated.\n",
    "    :return: mutated_population which has the same shape as population.\n",
    "    \"\"\"\n",
    "\n",
    "    mutated_population = population.copy()\n",
    "\n",
    "    for i in range(len(population)):\n",
    "\n",
    "        for j in range(len(population[i])):\n",
    "\n",
    "            if np.random.rand() < prob_mutation:\n",
    "\n",
    "                if mutated_population[i][j] == 0:\n",
    "                    mutated_population[i][j] = 1\n",
    "                else:\n",
    "                    mutated_population[i][j] = 0\n",
    "\n",
    "    return mutated_population\n"
   ]
  },
  {
   "cell_type": "code",
   "execution_count": null,
   "id": "52515fb6-32f2-4916-9ae6-a834e7bd622e",
   "metadata": {},
   "outputs": [],
   "source": []
  }
 ],
 "metadata": {
  "kernelspec": {
   "display_name": "Python",
   "language": "python",
   "name": "python3"
  },
  "language_info": {
   "codemirror_mode": {
    "name": "ipython",
    "version": 3
   },
   "file_extension": ".py",
   "mimetype": "text/x-python",
   "name": "python",
   "nbconvert_exporter": "python",
   "pygments_lexer": "ipython3",
   "version": "3.8.10"
  }
 },
 "nbformat": 4,
 "nbformat_minor": 5
}
