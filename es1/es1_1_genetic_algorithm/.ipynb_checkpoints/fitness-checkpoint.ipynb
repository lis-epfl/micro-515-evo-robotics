{
 "cells": [
  {
   "cell_type": "code",
   "execution_count": 1,
   "id": "4ea6d5c6-1750-4365-b5ce-7eead06002d9",
   "metadata": {},
   "outputs": [],
   "source": [
    "import numpy as np\n",
    "\n",
    "\n",
    "def ackley(chromosome):\n",
    "    \"\"\"\n",
    "    The fitness function first decodes the chromosome and then calculates the Ackley function. \n",
    "    There is a single global minima at [0, 0] and multiple local minima. We will look at the \n",
    "    function with x and y in the range [-5, 5].\n",
    "    \n",
    "    :param chromosome: chromosome to evaluate\n",
    "    :return np.array([x, y, fitness]): which are the decoded x and y values and the ackley function output.\n",
    "    \"\"\"\n",
    "    lb_x, ub_x = -5, 5\n",
    "    len_x = (len(chromosome)//2)\n",
    "    lb_y, ub_y = -5, 5\n",
    "    len_y = (len(chromosome)//2)\n",
    "\n",
    "    precision_x = (ub_x-lb_x)/((2**len_x)-1)\n",
    "    precision_y = (ub_y-lb_y)/((2**len_y)-1)\n",
    "    \n",
    "    z = 0\n",
    "    t = 1 + (len(chromosome)//2)\n",
    "    x_bit_sum = 0\n",
    "    for i in range(len(chromosome)//2):\n",
    "        x_bit = chromosome[-t]*(2**z)\n",
    "        x_bit_sum += x_bit\n",
    "        t += 1\n",
    "        z += 1\n",
    "        \n",
    "    z = 0\n",
    "    t = 1\n",
    "    y_bit_sum = 0\n",
    "    for i in range(len(chromosome)//2):\n",
    "        y_bit = chromosome[-t]*(2**z)\n",
    "        y_bit_sum += y_bit\n",
    "        t += 1\n",
    "        z += 1\n",
    "        \n",
    "    x = (x_bit_sum*precision_x)+lb_x\n",
    "    y = (y_bit_sum*precision_y)+lb_y\n",
    "    \n",
    "    fitness = -20.0 * np.exp(-0.2 * np.sqrt(0.5 * (x**2 + y**2))) - np.exp(0.5 * (np.cos(2 * np.pi * x) + np.cos(2 * np.pi * y))) + np.e + 20\n",
    "    \n",
    "    return np.array([x, y, fitness])"
   ]
  },
  {
   "cell_type": "code",
   "execution_count": null,
   "id": "97319d06-4978-4fc5-8828-5c56aab1abdf",
   "metadata": {},
   "outputs": [],
   "source": []
  }
 ],
 "metadata": {
  "kernelspec": {
   "display_name": "Python",
   "language": "python",
   "name": "python3"
  },
  "language_info": {
   "codemirror_mode": {
    "name": "ipython",
    "version": 3
   },
   "file_extension": ".py",
   "mimetype": "text/x-python",
   "name": "python",
   "nbconvert_exporter": "python",
   "pygments_lexer": "ipython3",
   "version": "3.8.10"
  }
 },
 "nbformat": 4,
 "nbformat_minor": 5
}
