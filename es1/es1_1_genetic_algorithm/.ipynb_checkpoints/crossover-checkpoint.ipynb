{
 "cells": [
  {
   "cell_type": "code",
   "execution_count": 1,
   "id": "87063d74-5a67-40b1-bf21-f78592e39a8f",
   "metadata": {},
   "outputs": [],
   "source": [
    "import numpy as np\n",
    "\n",
    "\n",
    "def crossover(parent_1, parent_2, prob_crossover=0.5):\n",
    "    \"\"\"\n",
    "    This function takes two parent chromosomes and returns two child chromosomes used to \n",
    "    populate the next generation. If the crossover probability is 0, the returned child \n",
    "    chromosomes are duplicates of the parent chromosomes. If it is 1 then all child \n",
    "    chromosomes are generated using 2-point crossover of the parents. \n",
    "    \n",
    "    :param parent_1:\n",
    "    :param parent_2:\n",
    "    :param prob_crossover: The crossover probability [0,1]\n",
    "    :return: child_1, child_2\n",
    "    \"\"\"\n",
    "    \n",
    "    if np.random.rand() < prob_crossover:\n",
    "\n",
    "        index_1 = np.random.randint(0,len(parent_1))\n",
    "        index_2 = np.random.randint(0,len(parent_2))\n",
    "\n",
    "        while index_1 == index_2:\n",
    "            index_2 = np.random.randint(0,len(parent_2))\n",
    "\n",
    "        if index_1 > index_2:\n",
    "            index_1, index_2 = index_2, index_1\n",
    "        \n",
    "        first_seg_parent_1 = parent_1[:index_1]\n",
    "        mid_seg_parent_1 = parent_1[index_1:index_2+1]\n",
    "        last_seg_parent_1 = parent_1[index_2+1:]\n",
    "\n",
    "        first_seg_parent_2 = parent_2[:index_1]\n",
    "        mid_seg_parent_2 = parent_2[index_1:index_2+1]\n",
    "        last_seg_parent_2 = parent_2[index_2+1:]\n",
    "            \n",
    "        child_1 = np.concatenate((first_seg_parent_1, mid_seg_parent_2,\n",
    "                                  last_seg_parent_1))\n",
    "        child_2 = np.concatenate((first_seg_parent_2, mid_seg_parent_1,\n",
    "                                  last_seg_parent_2))\n",
    "    else:\n",
    "        child_1 = parent_1\n",
    "        child_2 = parent_2\n",
    "    \n",
    "    return child_1, child_2"
   ]
  },
  {
   "cell_type": "code",
   "execution_count": null,
   "id": "26c0637f-9fe2-49b9-8028-74b81523a021",
   "metadata": {},
   "outputs": [],
   "source": []
  }
 ],
 "metadata": {
  "kernelspec": {
   "display_name": "Python",
   "language": "python",
   "name": "python3"
  },
  "language_info": {
   "codemirror_mode": {
    "name": "ipython",
    "version": 3
   },
   "file_extension": ".py",
   "mimetype": "text/x-python",
   "name": "python",
   "nbconvert_exporter": "python",
   "pygments_lexer": "ipython3",
   "version": "3.8.10"
  }
 },
 "nbformat": 4,
 "nbformat_minor": 5
}
