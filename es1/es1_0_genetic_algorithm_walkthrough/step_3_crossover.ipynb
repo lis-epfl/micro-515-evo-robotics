{
 "cells": [
  {
   "cell_type": "markdown",
   "id": "036917e9-962f-44af-a51a-927c29ebc986",
   "metadata": {},
   "source": [
    "# GENETIC ALGORITHM CROSSOVER OPERATOR\n",
    "\n",
    "GA order of operation:\n",
    "1. Calculate the fitness of each chromosome in the current generation.\n",
    "2. Select the parents from the current generation that will be used to make the next generation.\n",
    "3. **Perform crossover of the parents to make children that will be the chromosomes in the next generation.**\n",
    "4. Mutate the children made in step 3.\n",
    "\n",
    "Here, we implement a 2-point crossover operator for two predefined parent chromosomes. "
   ]
  },
  {
   "cell_type": "markdown",
   "id": "36d3cfde-537b-4a21-9bdc-a4fc6b4e8a93",
   "metadata": {},
   "source": [
    "## Parents\n",
    "We will use two parent chromosomes, parent_1 and parent_2, of length 10. For the GA, we will use length 20 for the parents, 10 for x and 10 for y, but to keep it simple, we will use 5 values each for x and y here."
   ]
  },
  {
   "cell_type": "code",
   "execution_count": 1,
   "id": "4d0a3b71-7765-4235-850e-961891b25b14",
   "metadata": {},
   "outputs": [
    {
     "name": "stdout",
     "output_type": "stream",
     "text": [
      "\n",
      "parent_1: [1 1 1 1 1 0 0 0 0 0]\n",
      "parent_2: [0 0 0 0 0 1 1 1 1 1]\n"
     ]
    }
   ],
   "source": [
    "import numpy as np\n",
    "\n",
    "parent_1 = np.array([1,1,1,1,1,0,0,0,0,0])\n",
    "parent_2 = np.array([0,0,0,0,0,1,1,1,1,1])\n",
    "\n",
    "print()\n",
    "print(f\"parent_1: {parent_1}\")\n",
    "print(f\"parent_2: {parent_2}\")"
   ]
  },
  {
   "cell_type": "markdown",
   "id": "3defa0d3-094d-487d-9504-b6e4f803d749",
   "metadata": {},
   "source": [
    "## Select the indices\n",
    "Next, we need to randomly select two indices, index_1 and index_2, where the parent chromosomes will be split. We need to check that index_1 and index_2 are not equal (or no crossover would occur) and that index_1 is less than index_2."
   ]
  },
  {
   "cell_type": "code",
   "execution_count": 2,
   "id": "6131a3a8-fb82-4908-966f-dcdc78480aba",
   "metadata": {},
   "outputs": [
    {
     "name": "stdout",
     "output_type": "stream",
     "text": [
      "\n",
      "index_1: 1\n",
      "index_2: 4\n"
     ]
    }
   ],
   "source": [
    "index_1 = np.random.randint(0,len(parent_1))\n",
    "index_2 = np.random.randint(0,len(parent_2))\n",
    "\n",
    "while index_1 == index_2:\n",
    "    index_2 = np.random.randint(0,len(parent_2))\n",
    "\n",
    "if index_1 > index_2:\n",
    "    index_1, index_2 = index_2, index_1\n",
    "\n",
    "print()\n",
    "print(f\"index_1: {index_1}\")\n",
    "print(f\"index_2: {index_2}\")"
   ]
  },
  {
   "cell_type": "markdown",
   "id": "305b7e2c-77c7-43c0-8a11-0c4cbc19a7d8",
   "metadata": {},
   "source": [
    "## Split the parents at the indices\n",
    "We then split each of the parent chromosomes into 3 segments at the two indices, e.g. parent_1 gets split into first_seg_parent_1, mid_seg_parent_1, and last_seg_parent_1."
   ]
  },
  {
   "cell_type": "code",
   "execution_count": 3,
   "id": "fe4104aa-ef1c-471e-82b8-6ccfe2680303",
   "metadata": {},
   "outputs": [
    {
     "name": "stdout",
     "output_type": "stream",
     "text": [
      "\n",
      "first_seg_parent_1: [1]\n",
      "mid_seg_parent_1: [1 1 1 1]\n",
      "last_seg_parent_1: [0 0 0 0 0]\n",
      "\n",
      "first_seg_parent_2: [0]\n",
      "mid_seg_parent_2: [0 0 0 0]\n",
      "last_seg_parent_2: [1 1 1 1 1]\n"
     ]
    }
   ],
   "source": [
    "first_seg_parent_1 = parent_1[:index_1]\n",
    "mid_seg_parent_1 = parent_1[index_1:index_2+1]\n",
    "last_seg_parent_1 = parent_1[index_2+1:]\n",
    "\n",
    "print()\n",
    "print(f\"first_seg_parent_1: {first_seg_parent_1}\")\n",
    "print(f\"mid_seg_parent_1: {mid_seg_parent_1}\")\n",
    "print(f\"last_seg_parent_1: {last_seg_parent_1}\")\n",
    "\n",
    "first_seg_parent_2 = parent_2[:index_1]\n",
    "mid_seg_parent_2 = parent_2[index_1:index_2+1]\n",
    "last_seg_parent_2 = parent_2[index_2+1:]\n",
    "\n",
    "print()\n",
    "print(f\"first_seg_parent_2: {first_seg_parent_2}\")\n",
    "print(f\"mid_seg_parent_2: {mid_seg_parent_2}\")\n",
    "print(f\"last_seg_parent_2: {last_seg_parent_2}\")"
   ]
  },
  {
   "cell_type": "markdown",
   "id": "8e5aecc4-4c5f-408d-92d8-d8a39a25c236",
   "metadata": {},
   "source": [
    "## Combine the parent segments to create the children\n",
    "The children are then created by concatenating the first and last segments from one parent with the middle segment from the other. "
   ]
  },
  {
   "cell_type": "code",
   "execution_count": 4,
   "id": "43fd4800-25db-4445-8e65-d3e94984aeca",
   "metadata": {},
   "outputs": [
    {
     "name": "stdout",
     "output_type": "stream",
     "text": [
      "\n",
      "first_seg_parent_1 + mid_seg_parent_2 + last_seg_parent_1 = child_1: [1] + [0 0 0 0] + [0 0 0 0 0] = [1 0 0 0 0 0 0 0 0 0]\n",
      "first_seg_parent_2 + mid_seg_parent_1 + last_seg_parent_2 = child_2: [0] + [1 1 1 1] + [1 1 1 1 1] = [0 1 1 1 1 1 1 1 1 1]\n",
      "\n"
     ]
    }
   ],
   "source": [
    "child_1 = np.concatenate((first_seg_parent_1, mid_seg_parent_2, last_seg_parent_1))\n",
    "child_2 = np.concatenate((first_seg_parent_2, mid_seg_parent_1, last_seg_parent_2))\n",
    "\n",
    "print()\n",
    "print(f\"first_seg_parent_1 + mid_seg_parent_2 + last_seg_parent_1 = child_1: {first_seg_parent_1} + {mid_seg_parent_2} + {last_seg_parent_1} = {child_1}\")\n",
    "print(f\"first_seg_parent_2 + mid_seg_parent_1 + last_seg_parent_2 = child_2: {first_seg_parent_2} + {mid_seg_parent_1} + {last_seg_parent_2} = {child_2}\")\n",
    "print()"
   ]
  },
  {
   "cell_type": "markdown",
   "id": "25be5e5a-9073-40e0-98b3-6f5c2207d042",
   "metadata": {},
   "source": [
    "## Combining all the above\n",
    "\n",
    "The only difference between the following code and the code above is the use of the crossover probability, PROB_CROSSOVER, which is initially set to 1 so that crossover always occurs. Each time this code is run, a random number is generated and, if that random number is less than PROB_CROSSOVER, crossover will occur. However, if PROB_CROSSOVER is set to a different value, such as 0.5, then the parents will only be crossed over if the random number is less than PROB_CROSSOVER. If it is greater than PROB_CROSSOVER then each child will be equal to the corresponding parent, e.g. child_1 = parent_1."
   ]
  },
  {
   "cell_type": "code",
   "execution_count": 5,
   "id": "0e359ff8-7f4f-46ac-8664-0ae82fbe86d1",
   "metadata": {},
   "outputs": [
    {
     "name": "stdout",
     "output_type": "stream",
     "text": [
      "\n",
      "parent_1: [1 1 1 1 1 0 0 0 0 0]\n",
      "parent_2: [0 0 0 0 0 1 1 1 1 1]\n",
      "\n",
      "rand_num 0.313 < PROB_CROSSOVER 1: True\n",
      "\n",
      "--- Crossover ---\n",
      "\n",
      "index_1: 8\n",
      "index_2: 9\n",
      "\n",
      "first_seg_parent_1: [1 1 1 1 1 0 0 0]\n",
      "mid_seg_parent_1: [0 0]\n",
      "last_seg_parent_1: []\n",
      "\n",
      "first_seg_parent_2: [0 0 0 0 0 1 1 1]\n",
      "mid_seg_parent_2: [1 1]\n",
      "last_seg_parent_2: []\n",
      "\n",
      "first_seg_parent_1 + mid_seg_parent_2 + last_seg_parent_1 = child_1: [1 1 1 1 1 0 0 0] + [1 1] + [] = [1 1 1 1 1 0 0 0 1 1]\n",
      "first_seg_parent_2 + mid_seg_parent_1 + last_seg_parent_2 = child_2: [0 0 0 0 0 1 1 1] + [0 0] + [] = [0 0 0 0 0 1 1 1 0 0]\n",
      "\n"
     ]
    }
   ],
   "source": [
    "PROB_CROSSOVER = 1\n",
    "\n",
    "\n",
    "parent_1 = np.array([1,1,1,1,1,0,0,0,0,0])\n",
    "parent_2 = np.array([0,0,0,0,0,1,1,1,1,1])\n",
    "\n",
    "print()\n",
    "print(f\"parent_1: {parent_1}\")\n",
    "print(f\"parent_2: {parent_2}\") \n",
    "print()\n",
    "\n",
    "child_1 = np.empty((0,len(parent_1)))\n",
    "child_2 = np.empty((0,len(parent_2)))\n",
    "\n",
    "rand_num = np.random.rand()\n",
    "print(f\"rand_num {round(rand_num,3)} < PROB_CROSSOVER {PROB_CROSSOVER}: {rand_num < PROB_CROSSOVER}\")\n",
    "print()\n",
    "\n",
    "if rand_num < PROB_CROSSOVER:\n",
    "    \n",
    "    print(\"--- Crossover ---\")\n",
    "    \n",
    "    index_1 = np.random.randint(0,len(parent_1))\n",
    "    index_2 = np.random.randint(0,len(parent_2))\n",
    "    \n",
    "    while index_1 == index_2:\n",
    "        index_2 = np.random.randint(0,len(parent_2))\n",
    "    \n",
    "    if index_1 > index_2:\n",
    "        index_1, index_2 = index_2, index_1\n",
    "    \n",
    "    print()\n",
    "    print(f\"index_1: {index_1}\")\n",
    "    print(f\"index_2: {index_2}\")\n",
    "        \n",
    "    first_seg_parent_1 = parent_1[:index_1]\n",
    "    mid_seg_parent_1 = parent_1[index_1:index_2+1]\n",
    "    last_seg_parent_1 = parent_1[index_2+1:]\n",
    "\n",
    "    print()\n",
    "    print(f\"first_seg_parent_1: {first_seg_parent_1}\")\n",
    "    print(f\"mid_seg_parent_1: {mid_seg_parent_1}\")\n",
    "    print(f\"last_seg_parent_1: {last_seg_parent_1}\")\n",
    "\n",
    "    first_seg_parent_2 = parent_2[:index_1]\n",
    "    mid_seg_parent_2 = parent_2[index_1:index_2+1]\n",
    "    last_seg_parent_2 = parent_2[index_2+1:]\n",
    "\n",
    "    print()\n",
    "    print(f\"first_seg_parent_2: {first_seg_parent_2}\")\n",
    "    print(f\"mid_seg_parent_2: {mid_seg_parent_2}\")\n",
    "    print(f\"last_seg_parent_2: {last_seg_parent_2}\")\n",
    "\n",
    "    child_1 = np.concatenate((first_seg_parent_1, mid_seg_parent_2, last_seg_parent_1))\n",
    "    child_2 = np.concatenate((first_seg_parent_2, mid_seg_parent_1, last_seg_parent_2))\n",
    "\n",
    "    print()\n",
    "    print(f\"first_seg_parent_1 + mid_seg_parent_2 + last_seg_parent_1 = child_1: {first_seg_parent_1} + {mid_seg_parent_2} + {last_seg_parent_1} = {child_1}\")\n",
    "    print(f\"first_seg_parent_2 + mid_seg_parent_1 + last_seg_parent_2 = child_2: {first_seg_parent_2} + {mid_seg_parent_1} + {last_seg_parent_2} = {child_2}\")\n",
    "    print()\n",
    "    \n",
    "else:\n",
    "    \n",
    "    print(\"--- No crossover ---\")\n",
    "    \n",
    "    child_1 = parent_1\n",
    "    child_2 = parent_2"
   ]
  },
  {
   "cell_type": "markdown",
   "id": "e6f602c6-e6da-4e80-bc18-97375b0a6a63",
   "metadata": {},
   "source": [
    "## Crossover function\n",
    "See /es1_1_genetic_algorithm/crossover.ipynb to see the above code written as a function that will be used in /es1_1_genetic_algorithm/GA.ipynb."
   ]
  },
  {
   "cell_type": "code",
   "execution_count": null,
   "id": "f20cff55-34a1-46c6-8699-db712e329412",
   "metadata": {},
   "outputs": [],
   "source": []
  }
 ],
 "metadata": {
  "kernelspec": {
   "display_name": "Python",
   "language": "python",
   "name": "python3"
  },
  "language_info": {
   "codemirror_mode": {
    "name": "ipython",
    "version": 3
   },
   "file_extension": ".py",
   "mimetype": "text/x-python",
   "name": "python",
   "nbconvert_exporter": "python",
   "pygments_lexer": "ipython3",
   "version": "3.8.10"
  }
 },
 "nbformat": 4,
 "nbformat_minor": 5
}
