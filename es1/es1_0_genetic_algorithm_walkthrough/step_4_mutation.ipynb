{
 "cells": [
  {
   "cell_type": "markdown",
   "id": "5c2e8e8e-01a2-47ab-88d6-0a163371741d",
   "metadata": {},
   "source": [
    "# Mutation operator\n",
    "\n",
    "GA order of operation:\n",
    "1. Calculate the fitness of each chromosome in the current generation.\n",
    "2. Select the parents from the current generation that will be used to make the next generation.\n",
    "3. Perform crossover of the parents to make children that will be the chromosomes in the next generation.\n",
    "4. **Mutate the children made in step 3.**\n",
    "\n",
    "Now that we have performed crossover, the final step to get a new generation of the population is to mutate the children from the current generation."
   ]
  },
  {
   "cell_type": "markdown",
   "id": "6fa8eb80-1238-4c2f-be4a-2cd048488359",
   "metadata": {},
   "source": [
    "# Probability of mutation\n",
    "Each individual gene in the genome will be mutated based on the mutation probability. Here, we set it to 30% so you can easily observe the mutation of the genome. However, when running the GA, you will want to systematically explore different mutation rates to find the one that is right for the problem you are trying to solve (30% will almost certainly be too high)."
   ]
  },
  {
   "cell_type": "code",
   "execution_count": 1,
   "id": "0af2da3e-46e0-480e-911c-9985befc43c5",
   "metadata": {},
   "outputs": [
    {
     "name": "stdout",
     "output_type": "stream",
     "text": [
      "child_1: [1 1 1 1 1 1 1 1 1 1 0 0 0 0 0 0 0 0 0 0]\n"
     ]
    }
   ],
   "source": [
    "import numpy as np\n",
    "\n",
    "PROB_MUTATION = 0.3\n",
    "\n",
    "child_1 = np.array([1,1,1,1,1,1,1,1,1,1,\n",
    "                    0,0,0,0,0,0,0,0,0,0])\n",
    "\n",
    "print(f\"child_1: {child_1}\")"
   ]
  },
  {
   "cell_type": "markdown",
   "id": "7544c4c3-f7ff-4d98-81c4-09321be19781",
   "metadata": {},
   "source": [
    "## Mutation probability\n",
    "\n",
    "We now loop through the index of each gene in the genome and if rand_num is less than the mutation probability, PROB_MUTATION, then we mutate the gene at index i. In the case of a binary list, this means flipping the bit."
   ]
  },
  {
   "cell_type": "code",
   "execution_count": 3,
   "id": "4763a9c6-573d-42e7-b16b-acd0157ae0b7",
   "metadata": {},
   "outputs": [
    {
     "name": "stdout",
     "output_type": "stream",
     "text": [
      "Skipping gene 0\n",
      "Skipping gene 1\n",
      "\n",
      "0.16686 < 0.3 so mutating gene 2\n",
      "new child_1: [1 1 0 1 1 1 1 1 1 1 0 0 0 0 0 0 0 0 0 0] (original: [1 1 1 1 1 1 1 1 1 1 0 0 0 0 0 0 0 0 0 0])\n",
      "\n",
      "\n",
      "0.04469 < 0.3 so mutating gene 3\n",
      "new child_1: [1 1 0 0 1 1 1 1 1 1 0 0 0 0 0 0 0 0 0 0] (original: [1 1 1 1 1 1 1 1 1 1 0 0 0 0 0 0 0 0 0 0])\n",
      "\n",
      "Skipping gene 4\n",
      "Skipping gene 5\n",
      "Skipping gene 6\n",
      "\n",
      "0.13291 < 0.3 so mutating gene 7\n",
      "new child_1: [1 1 0 0 1 1 1 0 1 1 0 0 0 0 0 0 0 0 0 0] (original: [1 1 1 1 1 1 1 1 1 1 0 0 0 0 0 0 0 0 0 0])\n",
      "\n",
      "Skipping gene 8\n",
      "Skipping gene 9\n",
      "Skipping gene 10\n",
      "Skipping gene 11\n",
      "\n",
      "0.12953 < 0.3 so mutating gene 12\n",
      "new child_1: [1 1 0 0 1 1 1 0 1 1 0 0 1 0 0 0 0 0 0 0] (original: [1 1 1 1 1 1 1 1 1 1 0 0 0 0 0 0 0 0 0 0])\n",
      "\n",
      "Skipping gene 13\n",
      "\n",
      "0.08508 < 0.3 so mutating gene 14\n",
      "new child_1: [1 1 0 0 1 1 1 0 1 1 0 0 1 0 1 0 0 0 0 0] (original: [1 1 1 1 1 1 1 1 1 1 0 0 0 0 0 0 0 0 0 0])\n",
      "\n",
      "\n",
      "0.15817 < 0.3 so mutating gene 15\n",
      "new child_1: [1 1 0 0 1 1 1 0 1 1 0 0 1 0 1 1 0 0 0 0] (original: [1 1 1 1 1 1 1 1 1 1 0 0 0 0 0 0 0 0 0 0])\n",
      "\n",
      "\n",
      "0.10092 < 0.3 so mutating gene 16\n",
      "new child_1: [1 1 0 0 1 1 1 0 1 1 0 0 1 0 1 1 1 0 0 0] (original: [1 1 1 1 1 1 1 1 1 1 0 0 0 0 0 0 0 0 0 0])\n",
      "\n",
      "Skipping gene 17\n",
      "Skipping gene 18\n",
      "\n",
      "0.06891 < 0.3 so mutating gene 19\n",
      "new child_1: [1 1 0 0 1 1 1 0 1 1 0 0 1 0 1 1 1 0 0 1] (original: [1 1 1 1 1 1 1 1 1 1 0 0 0 0 0 0 0 0 0 0])\n",
      "\n"
     ]
    }
   ],
   "source": [
    "mutated_child_1 = child_1.copy()\n",
    "\n",
    "for i in range(len(child_1)):\n",
    "    \n",
    "    rand_num = np.random.rand()\n",
    "    \n",
    "    if rand_num < PROB_MUTATION:\n",
    "        print()\n",
    "        print(f\"{round(rand_num, 5)} < {PROB_MUTATION} so mutating gene {i}\")\n",
    "        \n",
    "        if mutated_child_1[i] == 0:\n",
    "            mutated_child_1[i] = 1\n",
    "        else:\n",
    "            mutated_child_1[i] = 0\n",
    "        \n",
    "        print(f\"new child_1: {mutated_child_1} (original: {child_1})\")\n",
    "        print()\n",
    "    else:\n",
    "        print(f\"Skipping gene {i}\")\n",
    "        "
   ]
  },
  {
   "cell_type": "markdown",
   "id": "ceb4f273-c165-4d5c-aa3c-a2b7d4f56a8c",
   "metadata": {},
   "source": [
    "## Mutation of the entire population\n",
    "What we actually want to do is mutate every gene in every genome for all chromosomes in the population."
   ]
  },
  {
   "cell_type": "code",
   "execution_count": 4,
   "id": "d8210eec-54a7-4ff3-b178-691e44bb2be5",
   "metadata": {},
   "outputs": [
    {
     "name": "stdout",
     "output_type": "stream",
     "text": [
      "Original population\n",
      "[[1. 1. 1. 1. 0. 0. 1. 1. 0. 0. 1. 1. 0. 0. 0. 1. 0. 1. 1. 1.]\n",
      " [1. 1. 1. 0. 1. 0. 1. 1. 1. 1. 0. 0. 1. 1. 1. 1. 0. 0. 0. 0.]\n",
      " [1. 0. 0. 1. 1. 0. 0. 1. 1. 1. 1. 0. 0. 1. 1. 0. 1. 1. 0. 1.]\n",
      " [1. 0. 1. 0. 0. 1. 1. 1. 0. 1. 0. 1. 1. 1. 0. 1. 0. 1. 1. 0.]\n",
      " [1. 1. 1. 1. 0. 1. 1. 0. 0. 1. 1. 1. 1. 1. 0. 1. 0. 0. 0. 0.]\n",
      " [0. 1. 1. 1. 0. 0. 0. 1. 0. 1. 1. 1. 0. 1. 1. 1. 1. 0. 0. 1.]\n",
      " [1. 1. 1. 0. 1. 1. 0. 0. 1. 1. 0. 0. 0. 1. 0. 1. 1. 0. 1. 1.]\n",
      " [1. 1. 1. 0. 1. 0. 1. 0. 1. 1. 1. 0. 0. 1. 0. 1. 1. 1. 0. 0.]\n",
      " [0. 1. 1. 1. 1. 1. 0. 1. 1. 0. 1. 0. 0. 1. 1. 0. 1. 0. 1. 0.]\n",
      " [1. 1. 0. 0. 1. 0. 0. 1. 1. 1. 1. 1. 0. 1. 1. 1. 0. 0. 1. 0.]\n",
      " [0. 0. 1. 1. 1. 0. 0. 0. 1. 0. 1. 0. 1. 1. 1. 1. 1. 1. 0. 1.]\n",
      " [1. 1. 1. 1. 0. 1. 0. 0. 1. 1. 1. 1. 0. 0. 0. 1. 0. 0. 1. 1.]\n",
      " [0. 1. 1. 1. 0. 1. 1. 0. 1. 1. 1. 0. 0. 1. 1. 0. 0. 1. 1. 0.]\n",
      " [1. 1. 1. 0. 0. 1. 0. 1. 0. 1. 0. 1. 1. 1. 0. 1. 0. 1. 1. 0.]\n",
      " [0. 0. 0. 1. 0. 0. 1. 1. 1. 0. 1. 1. 1. 1. 1. 1. 0. 1. 0. 1.]\n",
      " [0. 0. 1. 0. 1. 1. 1. 1. 0. 1. 1. 0. 1. 0. 1. 1. 1. 0. 1. 0.]\n",
      " [0. 0. 1. 0. 1. 1. 0. 1. 1. 1. 0. 1. 1. 0. 1. 0. 0. 1. 1. 1.]\n",
      " [1. 1. 1. 1. 0. 0. 1. 0. 0. 0. 1. 0. 1. 1. 1. 0. 0. 1. 1. 1.]\n",
      " [1. 1. 1. 1. 1. 0. 1. 1. 0. 0. 0. 1. 0. 1. 0. 0. 0. 1. 1. 1.]\n",
      " [1. 0. 0. 1. 1. 1. 1. 1. 0. 0. 0. 0. 1. 0. 0. 1. 1. 1. 1. 1.]]\n",
      "\n",
      "Mutated population\n",
      "[[1. 1. 0. 1. 0. 1. 1. 1. 1. 0. 1. 0. 0. 1. 0. 1. 0. 0. 0. 1.]\n",
      " [1. 0. 0. 0. 1. 1. 0. 0. 0. 0. 0. 0. 1. 1. 1. 1. 0. 0. 0. 1.]\n",
      " [1. 0. 0. 0. 1. 0. 1. 1. 0. 1. 1. 0. 1. 1. 1. 0. 1. 1. 0. 0.]\n",
      " [1. 0. 1. 0. 0. 0. 1. 0. 1. 1. 1. 1. 1. 1. 0. 1. 0. 1. 1. 0.]\n",
      " [1. 1. 1. 0. 1. 1. 0. 1. 1. 1. 0. 1. 1. 0. 0. 1. 0. 0. 0. 0.]\n",
      " [0. 1. 1. 1. 1. 0. 0. 1. 0. 1. 1. 1. 0. 0. 0. 1. 1. 0. 1. 1.]\n",
      " [1. 1. 0. 1. 1. 0. 1. 0. 1. 1. 0. 0. 0. 1. 0. 1. 0. 0. 1. 1.]\n",
      " [1. 1. 1. 0. 1. 0. 1. 0. 0. 0. 1. 1. 0. 1. 1. 0. 0. 1. 0. 1.]\n",
      " [1. 1. 0. 1. 0. 1. 0. 1. 0. 0. 1. 0. 1. 1. 1. 0. 0. 1. 1. 0.]\n",
      " [1. 1. 0. 0. 1. 0. 1. 1. 0. 1. 1. 0. 0. 1. 1. 1. 1. 1. 0. 0.]\n",
      " [1. 1. 1. 1. 0. 0. 0. 0. 0. 0. 0. 1. 0. 0. 1. 0. 0. 1. 1. 1.]\n",
      " [1. 1. 0. 1. 1. 1. 1. 0. 1. 0. 1. 1. 0. 0. 0. 1. 1. 1. 1. 1.]\n",
      " [0. 1. 1. 1. 0. 1. 0. 0. 1. 1. 1. 1. 0. 0. 1. 0. 0. 1. 0. 1.]\n",
      " [1. 1. 1. 0. 0. 1. 0. 1. 1. 0. 1. 0. 1. 1. 0. 1. 0. 0. 0. 1.]\n",
      " [1. 0. 0. 1. 0. 1. 1. 1. 1. 1. 1. 1. 1. 0. 0. 0. 1. 1. 0. 0.]\n",
      " [1. 1. 0. 0. 1. 0. 0. 1. 0. 1. 0. 0. 1. 1. 1. 0. 1. 0. 1. 0.]\n",
      " [0. 1. 1. 0. 1. 1. 1. 0. 0. 1. 0. 0. 1. 0. 1. 0. 0. 1. 1. 1.]\n",
      " [0. 0. 1. 1. 1. 0. 1. 0. 1. 0. 1. 0. 1. 1. 1. 0. 1. 1. 0. 1.]\n",
      " [0. 1. 0. 1. 1. 1. 0. 1. 0. 1. 0. 1. 0. 1. 0. 0. 0. 0. 1. 1.]\n",
      " [0. 1. 0. 0. 1. 0. 1. 0. 0. 0. 1. 1. 0. 1. 0. 1. 1. 1. 0. 1.]]\n"
     ]
    }
   ],
   "source": [
    "import random\n",
    "\n",
    "PROB_MUTATION = 0.3\n",
    "POPULATION_SIZE = 20\n",
    "\n",
    "# make a population of chromosomes\n",
    "chromosome = np.array([0,0,1,0,1,0,1,1,1,1,1,1,0,1,1,1,0,0,1,0])\n",
    "population = np.empty((0,len(chromosome)))\n",
    "for i in range(POPULATION_SIZE):\n",
    "    random.shuffle(chromosome)\n",
    "    population = np.vstack((population, chromosome))\n",
    "    \n",
    "print(\"Original population\")\n",
    "print(population)\n",
    "print()\n",
    "\n",
    "mutated_population = population.copy()\n",
    "\n",
    "# mutate the population\n",
    "for i in range(len(population)): # for each chromosome\n",
    "    for j in range(len(population[i])): # for each gene in the chromosome\n",
    "\n",
    "        if np.random.rand() < PROB_MUTATION:\n",
    "\n",
    "            if mutated_population[i][j] == 0:\n",
    "                mutated_population[i][j] = 1\n",
    "            else:\n",
    "                mutated_population[i][j] = 0\n",
    "\n",
    "print(\"Mutated population\")\n",
    "print(mutated_population)"
   ]
  },
  {
   "cell_type": "markdown",
   "id": "44d98835-b02a-4910-ae02-103c9e4eab92",
   "metadata": {},
   "source": [
    "## Mutation function\n",
    "See /es1_1_genetic_algorithm/mutation.ipynb to see the above code written as a function that will be used in /es1_1_genetic_algorithm/GA.ipynb."
   ]
  },
  {
   "cell_type": "code",
   "execution_count": null,
   "id": "1cabfa19-321a-4f1d-a9f2-e5e556df2a2a",
   "metadata": {},
   "outputs": [],
   "source": []
  }
 ],
 "metadata": {
  "kernelspec": {
   "display_name": "Python",
   "language": "python",
   "name": "python3"
  },
  "language_info": {
   "codemirror_mode": {
    "name": "ipython",
    "version": 3
   },
   "file_extension": ".py",
   "mimetype": "text/x-python",
   "name": "python",
   "nbconvert_exporter": "python",
   "pygments_lexer": "ipython3",
   "version": "3.8.10"
  }
 },
 "nbformat": 4,
 "nbformat_minor": 5
}
