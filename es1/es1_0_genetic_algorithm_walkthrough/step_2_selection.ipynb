{
 "cells": [
  {
   "cell_type": "markdown",
   "id": "ac247453-4955-4538-8f7e-67e357420e1f",
   "metadata": {},
   "source": [
    "# Tournament selection\n",
    "\n",
    "GA order of operation:\n",
    "1. Calculate the fitness of each chromosome in the current generation.\n",
    "2. **Select the parents from the current generation that will be used to make the next generation.**\n",
    "3. Perform crossover of the parents to make children that will be the chromosomes in the next generation.\n",
    "4. Mutate the children made in step 3.\n",
    "\n",
    "Now we have the fitness of each chromosome in the current population, we want to use a selection operator to select parents from the current generation that will be used to make the next generation. Here, we will use tournament selection with a tournament size of 3. \n",
    "\n",
    "First, we will write the fitness operator as a function:"
   ]
  },
  {
   "cell_type": "code",
   "execution_count": 1,
   "id": "5c0640a1-92fb-4631-a594-c3e561b8ba1f",
   "metadata": {},
   "outputs": [],
   "source": [
    "import numpy as np\n",
    "import random\n",
    "\n",
    "\n",
    "# Fitness code as a function\n",
    "def ackley(chromosome):\n",
    "    lb_x, ub_x = -5, 5\n",
    "    len_x = (len(chromosome)//2)\n",
    "    lb_y, ub_y = -5, 5\n",
    "    len_y = (len(chromosome)//2)\n",
    "\n",
    "    precision_x = (ub_x-lb_x)/((2**len_x)-1)\n",
    "    precision_y = (ub_y-lb_y)/((2**len_y)-1)\n",
    "    \n",
    "    z = 0\n",
    "    t = 1 + (len(chromosome)//2)\n",
    "    x_bit_sum = 0\n",
    "    for i in range(len(chromosome)//2):\n",
    "        x_bit = chromosome[-t]*(2**z)\n",
    "        x_bit_sum += x_bit\n",
    "        t += 1\n",
    "        z += 1\n",
    "        \n",
    "    z = 0\n",
    "    t = 1\n",
    "    y_bit_sum = 0\n",
    "    for i in range(len(chromosome)//2):\n",
    "        y_bit = chromosome[-t]*(2**z)\n",
    "        y_bit_sum += y_bit\n",
    "        t += 1\n",
    "        z += 1\n",
    "        \n",
    "    x = (x_bit_sum*precision_x)+lb_x\n",
    "    y = (y_bit_sum*precision_y)+lb_y\n",
    "    \n",
    "    fitness = -20.0 * np.exp(-0.2 * np.sqrt(0.5 * (x**2 + y**2))) - np.exp(0.5 * (np.cos(2 * np.pi * x) + np.cos(2 * np.pi * y))) + np.e + 20\n",
    "    \n",
    "    return np.array([x, y, fitness])"
   ]
  },
  {
   "cell_type": "markdown",
   "id": "b5eaf494-a4c1-4f2f-8961-4ca44623112f",
   "metadata": {},
   "source": [
    "## Generate a new population\n",
    "To perform selection, we need a population of chromosomes to work with. Here, we generate a population with 20 chromosomes by shuffling the chromosome we initiate the population with and then stacking them in a numpy array where each row of the population is a different chromosome."
   ]
  },
  {
   "cell_type": "code",
   "execution_count": 2,
   "id": "8161851a-265b-4e4e-a02a-76b76883722b",
   "metadata": {},
   "outputs": [
    {
     "name": "stdout",
     "output_type": "stream",
     "text": [
      "\n",
      "[[1. 1. 1. 1. 1. 1. 0. 0. 0. 0. 1. 1. 1. 0. 0. 0. 1. 0. 1. 1.]\n",
      " [0. 1. 1. 1. 1. 1. 1. 0. 0. 0. 1. 0. 0. 1. 0. 1. 1. 1. 0. 1.]\n",
      " [1. 0. 1. 0. 1. 1. 1. 1. 0. 1. 1. 0. 1. 0. 0. 1. 0. 0. 1. 1.]\n",
      " [1. 1. 0. 1. 1. 0. 1. 1. 1. 0. 0. 0. 1. 1. 1. 0. 1. 1. 0. 0.]\n",
      " [1. 1. 1. 1. 1. 0. 1. 1. 0. 1. 0. 0. 0. 0. 1. 0. 1. 0. 1. 1.]\n",
      " [0. 1. 1. 1. 0. 0. 0. 1. 1. 0. 1. 0. 1. 1. 1. 1. 0. 1. 0. 1.]\n",
      " [1. 0. 1. 1. 1. 0. 0. 0. 0. 1. 1. 1. 0. 1. 1. 1. 1. 0. 1. 0.]\n",
      " [1. 0. 1. 1. 1. 1. 0. 1. 1. 0. 1. 1. 1. 0. 0. 1. 0. 0. 1. 0.]\n",
      " [0. 1. 0. 1. 1. 0. 1. 1. 0. 0. 1. 1. 1. 0. 1. 1. 0. 0. 1. 1.]\n",
      " [1. 0. 1. 0. 1. 1. 1. 1. 1. 1. 1. 0. 0. 0. 0. 0. 1. 0. 1. 1.]\n",
      " [0. 1. 0. 1. 0. 0. 1. 0. 1. 1. 1. 1. 1. 1. 0. 1. 1. 1. 0. 0.]\n",
      " [1. 1. 1. 1. 1. 1. 1. 0. 0. 0. 1. 0. 0. 1. 0. 1. 0. 1. 1. 0.]\n",
      " [1. 1. 0. 0. 1. 0. 1. 0. 1. 1. 1. 1. 1. 0. 0. 1. 0. 0. 1. 1.]\n",
      " [1. 0. 1. 0. 1. 1. 0. 0. 1. 1. 0. 1. 1. 0. 0. 1. 0. 1. 1. 1.]\n",
      " [0. 0. 0. 1. 0. 1. 1. 1. 0. 0. 1. 1. 1. 1. 1. 1. 0. 1. 1. 0.]\n",
      " [1. 0. 1. 0. 1. 0. 0. 1. 1. 1. 0. 1. 0. 1. 1. 1. 1. 1. 0. 0.]\n",
      " [1. 1. 1. 0. 0. 1. 0. 0. 1. 1. 0. 1. 0. 1. 1. 1. 0. 1. 1. 0.]\n",
      " [0. 1. 0. 0. 1. 1. 0. 1. 0. 0. 1. 1. 1. 0. 1. 1. 0. 1. 1. 1.]\n",
      " [1. 1. 1. 1. 0. 1. 1. 1. 1. 0. 0. 0. 0. 0. 0. 1. 1. 1. 0. 1.]\n",
      " [1. 1. 0. 1. 0. 0. 1. 1. 1. 0. 1. 0. 1. 0. 0. 1. 1. 0. 1. 1.]]\n"
     ]
    }
   ],
   "source": [
    "tournament_size = 3\n",
    "population_size = 20\n",
    "\n",
    "chromosome = np.array([0,0,1,0,1,0,1,1,1,1,1,1,0,1,1,1,0,0,1,0])\n",
    "population = np.empty((0,len(chromosome)))\n",
    "\n",
    "for i in range(population_size):\n",
    "    random.shuffle(chromosome)\n",
    "    population = np.vstack((population, chromosome))\n",
    "\n",
    "print()\n",
    "print(population)"
   ]
  },
  {
   "cell_type": "markdown",
   "id": "40cdd253-bc40-4e15-88d3-a817bfb1db45",
   "metadata": {},
   "source": [
    "## Choosing chromosomes for a tournament\n",
    "\n",
    "A tournament is made to select a new parent. The number of chromosomes in each tournament is tournament_size. First, we randomly choose the indices of tournament_size (3 in this example) chromosomes using np.random.choice. We do not want duplicates of the same chromosome in a single tournament, so we set replace=False so that a chosen index is removed from the options before the next index is selected. However, when a new tournament is made to select the next parent, all index options are available once again. "
   ]
  },
  {
   "cell_type": "code",
   "execution_count": 3,
   "id": "cc91865f-64f1-406c-aac2-85a738948397",
   "metadata": {},
   "outputs": [
    {
     "name": "stdout",
     "output_type": "stream",
     "text": [
      "Population size: 20 - chosen tournament indices: [4 5 6]\n",
      "\n"
     ]
    }
   ],
   "source": [
    "indices_list = np.random.choice(len(population), tournament_size, replace=False)\n",
    "\n",
    "print(f\"Population size: {population_size} - chosen tournament indices: {indices_list}\")\n",
    "print()"
   ]
  },
  {
   "cell_type": "code",
   "execution_count": 4,
   "id": "39913524-606b-4da9-af48-408c45a1321c",
   "metadata": {},
   "outputs": [
    {
     "name": "stdout",
     "output_type": "stream",
     "text": [
      "\n",
      "chromosome 4: [1. 1. 1. 1. 1. 0. 1. 1. 0. 1. 0. 0. 0. 0. 1. 0. 1. 0. 1. 1.]\n",
      "chromosome 5: [0. 1. 1. 1. 0. 0. 0. 1. 1. 0. 1. 0. 1. 1. 1. 1. 0. 1. 0. 1.]\n",
      "chromosome 6: [1. 0. 1. 1. 1. 0. 0. 0. 0. 1. 1. 1. 0. 1. 1. 1. 1. 0. 1. 0.]\n"
     ]
    }
   ],
   "source": [
    "pos_parent_1 = population[indices_list[0]]\n",
    "pos_parent_2 = population[indices_list[1]]\n",
    "pos_parent_3 = population[indices_list[2]]\n",
    "\n",
    "print()\n",
    "print(f\"chromosome {indices_list[0]}: {pos_parent_1}\")\n",
    "print(f\"chromosome {indices_list[1]}: {pos_parent_2}\")\n",
    "print(f\"chromosome {indices_list[2]}: {pos_parent_3}\")"
   ]
  },
  {
   "cell_type": "markdown",
   "id": "948f6c51-1aeb-4f79-a84a-3faeefc70180",
   "metadata": {},
   "source": [
    "### Fitness\n",
    "The fitness function is then used to calculate the fitness of each of the chromosomes in the tournament. The fitness function returns 3 values, x, y and the fitness, so we choose index [2] to get the fitness of the parent."
   ]
  },
  {
   "cell_type": "code",
   "execution_count": 5,
   "id": "27fc3be1-8640-4e52-9576-b3f0a8c7ac94",
   "metadata": {},
   "outputs": [
    {
     "name": "stdout",
     "output_type": "stream",
     "text": [
      "\n",
      "Fitness of chromosome 4: 14.104025320695866\n",
      "Fitness of chromosome 5: 8.183946443490017\n",
      "Fitness of chromosome 6: 10.854247817287186\n"
     ]
    }
   ],
   "source": [
    "fitness_parent_1 = ackley(pos_parent_1)[2]\n",
    "fitness_parent_2 = ackley(pos_parent_2)[2]\n",
    "fitness_parent_3 = ackley(pos_parent_3)[2]\n",
    "\n",
    "print()\n",
    "print(f\"Fitness of chromosome {indices_list[0]}: {fitness_parent_1}\")\n",
    "print(f\"Fitness of chromosome {indices_list[1]}: {fitness_parent_2}\")\n",
    "print(f\"Fitness of chromosome {indices_list[2]}: {fitness_parent_3}\")"
   ]
  },
  {
   "cell_type": "markdown",
   "id": "3c12e5a5-5194-4155-ae6b-9fd08eff5064",
   "metadata": {},
   "source": [
    "## Selecting the best chromosome\n",
    "In this case, the parameters to the Ackley function that result in the lowest result are the fittest. We therefore select the chromosome with the minimum value."
   ]
  },
  {
   "cell_type": "code",
   "execution_count": 6,
   "id": "fa62abcd-a08c-435e-bc50-e499acea2dcb",
   "metadata": {},
   "outputs": [
    {
     "name": "stdout",
     "output_type": "stream",
     "text": [
      "\n",
      "tournament winner: [0. 1. 1. 1. 0. 0. 0. 1. 1. 0. 1. 0. 1. 1. 1. 1. 0. 1. 0. 1.]\n",
      "min fitness is: 8.183946443490017\n"
     ]
    }
   ],
   "source": [
    "min_obj_fn = min(fitness_parent_1, fitness_parent_2, fitness_parent_3)\n",
    "\n",
    "if min_obj_fn == fitness_parent_1:\n",
    "    selected_parent = pos_parent_1\n",
    "elif min_obj_fn == fitness_parent_2:\n",
    "    selected_parent = pos_parent_2\n",
    "else:\n",
    "    selected_parent = pos_parent_3\n",
    "    \n",
    "print()\n",
    "print(f\"tournament winner: {selected_parent}\")\n",
    "print(f\"min fitness is: {min_obj_fn}\")"
   ]
  },
  {
   "cell_type": "markdown",
   "id": "059910c2-2a7a-4489-a3f7-54faa89d27fd",
   "metadata": {},
   "source": [
    "# Selection of two parents\n",
    "\n",
    "The code above was written assuming the tournament size is always 3. When we write a selection function, we want to have the tournament size as one of the input parameters. We will therefore update the code to work with any tournament size. For this, we can make use of list comprehensions in Python, e.g. [i for i in range(3)] = [0, 1, 2]. We can also use numpy.argmin which returns the index of the minimum value in the array."
   ]
  },
  {
   "cell_type": "code",
   "execution_count": 8,
   "id": "b8b2af87-1f59-4f45-83af-c45ef96a640e",
   "metadata": {},
   "outputs": [
    {
     "name": "stdout",
     "output_type": "stream",
     "text": [
      "Population\n",
      "[[1. 1. 1. 1. 1. 0. 1. 0. 1. 0. 1. 0. 0. 1. 0. 1. 1. 1. 0. 0.]\n",
      " [1. 1. 1. 1. 0. 1. 1. 1. 0. 0. 0. 0. 0. 0. 0. 1. 1. 1. 1. 1.]\n",
      " [1. 1. 1. 1. 0. 0. 0. 1. 0. 1. 1. 0. 1. 1. 0. 1. 1. 1. 0. 0.]\n",
      " [1. 1. 1. 0. 1. 1. 0. 1. 0. 0. 1. 1. 1. 0. 1. 0. 1. 0. 1. 0.]\n",
      " [0. 1. 0. 1. 1. 0. 1. 1. 1. 0. 1. 1. 1. 1. 1. 0. 1. 0. 0. 0.]\n",
      " [1. 1. 0. 1. 0. 0. 0. 1. 1. 1. 1. 1. 0. 0. 1. 0. 0. 1. 1. 1.]\n",
      " [1. 1. 0. 1. 0. 1. 0. 1. 1. 1. 1. 1. 0. 0. 1. 1. 0. 0. 1. 0.]\n",
      " [0. 1. 1. 1. 1. 1. 0. 1. 0. 0. 1. 1. 1. 0. 1. 1. 0. 0. 0. 1.]\n",
      " [1. 1. 1. 1. 1. 0. 0. 0. 1. 1. 0. 1. 1. 1. 1. 0. 0. 0. 0. 1.]\n",
      " [1. 1. 1. 0. 1. 1. 1. 0. 1. 1. 1. 1. 0. 0. 0. 1. 0. 0. 1. 0.]\n",
      " [1. 0. 0. 0. 1. 1. 1. 0. 1. 1. 0. 1. 1. 1. 0. 1. 0. 1. 1. 0.]\n",
      " [0. 1. 0. 1. 1. 0. 0. 0. 0. 1. 1. 1. 0. 1. 1. 1. 1. 1. 0. 1.]\n",
      " [1. 1. 1. 1. 0. 0. 1. 0. 0. 1. 1. 1. 1. 1. 0. 1. 1. 0. 0. 0.]\n",
      " [0. 1. 0. 1. 1. 1. 0. 0. 1. 1. 1. 1. 1. 1. 1. 0. 0. 0. 0. 1.]\n",
      " [1. 1. 0. 0. 1. 0. 1. 1. 1. 1. 0. 0. 1. 0. 1. 1. 0. 0. 1. 1.]\n",
      " [0. 1. 0. 1. 1. 1. 1. 0. 0. 1. 1. 0. 1. 0. 1. 1. 0. 1. 0. 1.]\n",
      " [1. 0. 1. 1. 0. 1. 0. 1. 0. 1. 1. 1. 1. 1. 0. 0. 0. 1. 1. 0.]\n",
      " [1. 1. 1. 1. 0. 1. 1. 0. 0. 1. 0. 1. 0. 1. 0. 1. 1. 0. 0. 1.]\n",
      " [0. 1. 0. 0. 0. 0. 1. 0. 1. 1. 1. 0. 1. 1. 1. 1. 1. 0. 1. 1.]\n",
      " [1. 1. 0. 0. 1. 0. 0. 1. 1. 1. 1. 0. 0. 1. 1. 0. 1. 1. 1. 0.]]\n",
      "\n",
      "Population size: 20 - chosen tournament indices: [11 15 10]\n",
      "\n",
      "\n",
      "chromosome 11: [0. 1. 0. 1. 1. 0. 0. 0. 0. 1. 1. 1. 0. 1. 1. 1. 1. 1. 0. 1.]\n",
      "chromosome 15: [0. 1. 0. 1. 1. 1. 1. 0. 0. 1. 1. 0. 1. 0. 1. 1. 0. 1. 0. 1.]\n",
      "chromosome 10: [1. 0. 0. 0. 1. 1. 1. 0. 1. 1. 0. 1. 1. 1. 0. 1. 0. 1. 1. 0.]\n",
      "\n",
      "Fitness of chromosome 11: 10.838148783921328\n",
      "Fitness of chromosome 15: 7.197947192140866\n",
      "Fitness of chromosome 10: 4.199441297232852\n",
      "\n",
      "Tournament Winner\n",
      "Chromosome 10: [1. 0. 0. 0. 1. 1. 1. 0. 1. 1. 0. 1. 1. 1. 0. 1. 0. 1. 1. 0.]\n",
      "Chromosome 10 fitness: 4.199441297232852\n"
     ]
    }
   ],
   "source": [
    "tournament_size = 3\n",
    "population_size = 20\n",
    "\n",
    "chromosome = np.array([0,0,1,0,1,0,1,1,1,1,1,1,0,1,1,1,0,0,1,0])\n",
    "population = np.empty((0,len(chromosome)))\n",
    "\n",
    "for i in range(population_size):\n",
    "    random.shuffle(chromosome)\n",
    "    population = np.vstack((population, chromosome))\n",
    "\n",
    "print(\"Population\")\n",
    "print(population)\n",
    "print()\n",
    "\n",
    "indices_list = np.random.choice(len(population), tournament_size, replace=False)\n",
    "\n",
    "print(f\"Population size: {population_size} - chosen tournament indices: {indices_list}\")\n",
    "print()\n",
    "\n",
    "chosen_parents = np.array([population[indices_list[i]] for i in range(tournament_size)])\n",
    "\n",
    "print()\n",
    "for i in range(tournament_size):\n",
    "    print(f\"chromosome {indices_list[i]}: {chosen_parents[i]}\")\n",
    "\n",
    "parent_fitnesses = np.array([ackley(chosen_parents[i])[2] for i in range(tournament_size)])\n",
    "\n",
    "print()\n",
    "for i in range(tournament_size):\n",
    "    print(f\"Fitness of chromosome {indices_list[i]}: {parent_fitnesses[i]}\")\n",
    "\n",
    "min_fitness_idx = np.argmin(parent_fitnesses)\n",
    "    \n",
    "print()\n",
    "print(f\"Tournament Winner\")\n",
    "print(f\"Chromosome {indices_list[min_fitness_idx]}: {chosen_parents[min_fitness_idx]}\")\n",
    "print(f\"Chromosome {indices_list[min_fitness_idx]} fitness: {parent_fitnesses[min_fitness_idx]}\")\n"
   ]
  },
  {
   "cell_type": "markdown",
   "id": "263e9e20-26e3-43cd-bef4-55b49402d96e",
   "metadata": {},
   "source": [
    "## Selection function\n",
    "See /es1_1_genetic_algorithm/selection.ipynb to see the above code written as a function that will be used in /es1_1_genetic_algorithm/GA.ipynb."
   ]
  },
  {
   "cell_type": "code",
   "execution_count": null,
   "id": "c5e8c7d9-aacf-42e2-9a76-6c50adcbb43a",
   "metadata": {},
   "outputs": [],
   "source": []
  }
 ],
 "metadata": {
  "kernelspec": {
   "display_name": "Python",
   "language": "python",
   "name": "python3"
  },
  "language_info": {
   "codemirror_mode": {
    "name": "ipython",
    "version": 3
   },
   "file_extension": ".py",
   "mimetype": "text/x-python",
   "name": "python",
   "nbconvert_exporter": "python",
   "pygments_lexer": "ipython3",
   "version": "3.8.10"
  }
 },
 "nbformat": 4,
 "nbformat_minor": 5
}
