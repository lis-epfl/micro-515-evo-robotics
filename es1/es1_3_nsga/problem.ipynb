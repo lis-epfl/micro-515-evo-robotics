{
 "cells": [
  {
   "cell_type": "code",
   "execution_count": 1,
   "id": "dee066fa-9a4d-42d5-9f61-084dccfb4cc1",
   "metadata": {},
   "outputs": [],
   "source": [
    "%run individual.ipynb\n",
    "import random\n",
    "\n",
    "\n",
    "class Problem:\n",
    "\n",
    "    def __init__(self, objectives, num_of_variables, variables_range, expand=True, same_range=False):\n",
    "        self.num_of_objectives = len(objectives)\n",
    "        self.num_of_variables = num_of_variables\n",
    "        self.objectives = objectives\n",
    "        self.expand = expand\n",
    "        self.variables_range = []\n",
    "        if same_range:\n",
    "            for _ in range(num_of_variables):\n",
    "                self.variables_range.append(variables_range[0])\n",
    "        else:\n",
    "            self.variables_range = variables_range\n",
    "\n",
    "    def generate_individual(self):\n",
    "        individual = Individual()\n",
    "        individual.features = [random.uniform(*x) for x in self.variables_range]\n",
    "        return individual\n",
    "\n",
    "    def calculate_objectives(self, individual):\n",
    "        if self.expand:\n",
    "            individual.objectives = [f(*individual.features) for f in self.objectives]\n",
    "        else:\n",
    "            individual.objectives = [f(individual.features) for f in self.objectives]\n"
   ]
  },
  {
   "cell_type": "code",
   "execution_count": null,
   "id": "3e8c28fb-0af2-420f-a43a-4a000d45711c",
   "metadata": {},
   "outputs": [],
   "source": []
  }
 ],
 "metadata": {
  "kernelspec": {
   "display_name": "Python",
   "language": "python",
   "name": "python3"
  },
  "language_info": {
   "codemirror_mode": {
    "name": "ipython",
    "version": 3
   },
   "file_extension": ".py",
   "mimetype": "text/x-python",
   "name": "python",
   "nbconvert_exporter": "python",
   "pygments_lexer": "ipython3",
   "version": "3.8.10"
  }
 },
 "nbformat": 4,
 "nbformat_minor": 5
}
