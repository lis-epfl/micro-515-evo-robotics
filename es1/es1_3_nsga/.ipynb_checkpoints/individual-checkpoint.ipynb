{
 "cells": [
  {
   "cell_type": "code",
   "execution_count": 1,
   "id": "dee066fa-9a4d-42d5-9f61-084dccfb4cc1",
   "metadata": {},
   "outputs": [],
   "source": [
    "class Individual(object):\n",
    "\n",
    "    def __init__(self):\n",
    "        self.rank = None\n",
    "        self.crowding_distance = None\n",
    "        self.domination_count = None\n",
    "        self.dominated_solutions = None\n",
    "        self.features = None\n",
    "        self.objectives = None\n",
    "\n",
    "    def __eq__(self, other):\n",
    "        if isinstance(self, other.__class__):\n",
    "            return self.features == other.features\n",
    "        return False\n",
    "\n",
    "    def dominates(self, other_individual):\n",
    "        and_condition = True\n",
    "        or_condition = False\n",
    "        for first, second in zip(self.objectives, other_individual.objectives):\n",
    "            and_condition = and_condition and first <= second\n",
    "            or_condition = or_condition or first < second\n",
    "        return (and_condition and or_condition)\n"
   ]
  },
  {
   "cell_type": "code",
   "execution_count": null,
   "id": "2e080966-15e9-4000-843c-808c6894f5d4",
   "metadata": {},
   "outputs": [],
   "source": []
  }
 ],
 "metadata": {
  "kernelspec": {
   "display_name": "Python",
   "language": "python",
   "name": "python3"
  },
  "language_info": {
   "codemirror_mode": {
    "name": "ipython",
    "version": 3
   },
   "file_extension": ".py",
   "mimetype": "text/x-python",
   "name": "python",
   "nbconvert_exporter": "python",
   "pygments_lexer": "ipython3",
   "version": "3.8.10"
  }
 },
 "nbformat": 4,
 "nbformat_minor": 5
}
