{
 "cells": [
  {
   "cell_type": "code",
   "execution_count": 2,
   "id": "dee066fa-9a4d-42d5-9f61-084dccfb4cc1",
   "metadata": {},
   "outputs": [],
   "source": [
    "%run utils.ipynb\n",
    "%run population.ipynb\n",
    "\n",
    "from tqdm import tqdm\n",
    "\n",
    "\n",
    "class Evolution:\n",
    "\n",
    "    def __init__(self, problem, num_of_generations=1000, num_of_individuals=100, num_of_tour_particips=2,\n",
    "                 tournament_prob=0.9, crossover_param=2, mutation_param=5):\n",
    "        self.utils = NSGA2Utils(problem, num_of_individuals, num_of_tour_particips, tournament_prob, crossover_param,\n",
    "                                mutation_param)\n",
    "        self.population = None\n",
    "        self.num_of_generations = num_of_generations\n",
    "        self.on_generation_finished = []\n",
    "        self.num_of_individuals = num_of_individuals\n",
    "\n",
    "    def evolve(self):\n",
    "        self.population = self.utils.create_initial_population()\n",
    "        self.utils.fast_nondominated_sort(self.population)\n",
    "        for front in self.population.fronts:\n",
    "            self.utils.calculate_crowding_distance(front)\n",
    "        children = self.utils.create_children(self.population)\n",
    "        returned_population = None\n",
    "        for i in tqdm(range(self.num_of_generations)):\n",
    "            self.population.extend(children)\n",
    "            self.utils.fast_nondominated_sort(self.population)\n",
    "            new_population = Population()\n",
    "            front_num = 0\n",
    "            while len(new_population) + len(self.population.fronts[front_num]) <= self.num_of_individuals:\n",
    "                self.utils.calculate_crowding_distance(self.population.fronts[front_num])\n",
    "                new_population.extend(self.population.fronts[front_num])\n",
    "                front_num += 1\n",
    "            self.utils.calculate_crowding_distance(self.population.fronts[front_num])\n",
    "            self.population.fronts[front_num].sort(key=lambda individual: individual.crowding_distance, reverse=True)\n",
    "            new_population.extend(self.population.fronts[front_num][0:self.num_of_individuals - len(new_population)])\n",
    "            returned_population = self.population\n",
    "            self.population = new_population\n",
    "            self.utils.fast_nondominated_sort(self.population)\n",
    "            for front in self.population.fronts:\n",
    "                self.utils.calculate_crowding_distance(front)\n",
    "            children = self.utils.create_children(self.population)\n",
    "        return returned_population.fronts[0]\n"
   ]
  },
  {
   "cell_type": "code",
   "execution_count": null,
   "id": "23a7a039-ea68-4c43-ade8-ddcb86bf44a1",
   "metadata": {},
   "outputs": [],
   "source": []
  }
 ],
 "metadata": {
  "kernelspec": {
   "display_name": "Python",
   "language": "python",
   "name": "python3"
  },
  "language_info": {
   "codemirror_mode": {
    "name": "ipython",
    "version": 3
   },
   "file_extension": ".py",
   "mimetype": "text/x-python",
   "name": "python",
   "nbconvert_exporter": "python",
   "pygments_lexer": "ipython3",
   "version": "3.8.10"
  }
 },
 "nbformat": 4,
 "nbformat_minor": 5
}
