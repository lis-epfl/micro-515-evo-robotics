{
 "cells": [
  {
   "cell_type": "code",
   "execution_count": 1,
   "id": "dee066fa-9a4d-42d5-9f61-084dccfb4cc1",
   "metadata": {},
   "outputs": [],
   "source": [
    "class Population:\n",
    "\n",
    "    def __init__(self):\n",
    "        self.population = []\n",
    "        self.fronts = []\n",
    "\n",
    "    def __len__(self):\n",
    "        return len(self.population)\n",
    "\n",
    "    def __iter__(self):\n",
    "        return self.population.__iter__()\n",
    "\n",
    "    def extend(self, new_individuals):\n",
    "        self.population.extend(new_individuals)\n",
    "\n",
    "    def append(self, new_individual):\n",
    "        self.population.append(new_individual)\n"
   ]
  },
  {
   "cell_type": "code",
   "execution_count": null,
   "id": "1184e275-44d0-4bd3-a362-a0a2dc1b4058",
   "metadata": {},
   "outputs": [],
   "source": []
  }
 ],
 "metadata": {
  "kernelspec": {
   "display_name": "Python",
   "language": "python",
   "name": "python3"
  },
  "language_info": {
   "codemirror_mode": {
    "name": "ipython",
    "version": 3
   },
   "file_extension": ".py",
   "mimetype": "text/x-python",
   "name": "python",
   "nbconvert_exporter": "python",
   "pygments_lexer": "ipython3",
   "version": "3.8.10"
  }
 },
 "nbformat": 4,
 "nbformat_minor": 5
}
